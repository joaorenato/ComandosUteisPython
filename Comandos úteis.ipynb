{
 "cells": [
  {
   "cell_type": "markdown",
   "metadata": {},
   "source": [
    "* **List** is a collection which is ordered and changeable. Allows duplicate members.\n",
    "* **Tuple** is a collection which is ordered and unchangeable. Allows duplicate members.\n",
    "* **Set** is a collection which is unordered and unindexed. No duplicate members.\n",
    "* **Dictionary** is a collection which is ordered* and changeable. No duplicate members.\n",
    "\n",
    "*As of Python version 3.7, dictionaries are ordered. In Python 3.6 and earlier, dictionaries are unordered."
   ]
  },
  {
   "cell_type": "markdown",
   "metadata": {},
   "source": []
  },
  {
   "cell_type": "markdown",
   "metadata": {},
   "source": [
    "**comando while**"
   ]
  },
  {
   "cell_type": "code",
   "execution_count": 1,
   "metadata": {},
   "outputs": [],
   "source": [
    "count = 1\n",
    "while count <= 100:\n",
    "    #print(count)\n",
    "    count += 1"
   ]
  },
  {
   "cell_type": "markdown",
   "metadata": {},
   "source": [
    "**comando for**"
   ]
  },
  {
   "cell_type": "code",
   "execution_count": 2,
   "metadata": {},
   "outputs": [
    {
     "name": "stdout",
     "output_type": "stream",
     "text": [
      "0\n"
     ]
    }
   ],
   "source": [
    "num = 0\n",
    "for i in range(1,num):\n",
    "    num *= i\n",
    "    \n",
    "print(num)"
   ]
  },
  {
   "cell_type": "code",
   "execution_count": 14,
   "metadata": {},
   "outputs": [
    {
     "name": "stdout",
     "output_type": "stream",
     "text": [
      "0 hello\n",
      "1 world\n",
      "2 hi\n",
      "3 earth\n"
     ]
    }
   ],
   "source": [
    "# Função enumerate()\n",
    "l = ['hello', 'world', 'hi', 'earth'] \n",
    "for i, word in enumerate(l):       # enumera os índices da lista\n",
    "    print(i, word)"
   ]
  },
  {
   "cell_type": "markdown",
   "metadata": {},
   "source": [
    "**Importando a base iris**"
   ]
  },
  {
   "cell_type": "code",
   "execution_count": null,
   "metadata": {},
   "outputs": [],
   "source": [
    "iris = load_iris()"
   ]
  },
  {
   "cell_type": "code",
   "execution_count": null,
   "metadata": {},
   "outputs": [],
   "source": [
    "iris.data"
   ]
  },
  {
   "cell_type": "code",
   "execution_count": null,
   "metadata": {},
   "outputs": [],
   "source": [
    "iris.feature_names"
   ]
  },
  {
   "cell_type": "code",
   "execution_count": null,
   "metadata": {},
   "outputs": [],
   "source": [
    "iris.target"
   ]
  },
  {
   "cell_type": "code",
   "execution_count": null,
   "metadata": {},
   "outputs": [],
   "source": [
    "iris.target_names"
   ]
  },
  {
   "cell_type": "markdown",
   "metadata": {},
   "source": [
    "# Pandas"
   ]
  },
  {
   "cell_type": "code",
   "execution_count": 10,
   "metadata": {},
   "outputs": [],
   "source": [
    "import pandas as pd"
   ]
  },
  {
   "cell_type": "code",
   "execution_count": null,
   "metadata": {},
   "outputs": [],
   "source": [
    "tabela = pd.DataFrame(iris.data, columns = iris.feature_names)"
   ]
  },
  {
   "cell_type": "code",
   "execution_count": null,
   "metadata": {},
   "outputs": [],
   "source": [
    "tabela.head()\n",
    "tabela.tail()\n",
    "tabela.sample()  # seleciona uma linha (registro) aleatória da tabela\n",
    "tabela.sample(n) # seleciona n linhas aleatórias da tabela\n",
    "tabela.T         # transpõe a matriz da tabela (linhas viram colunas e colunas viram linhas)\n",
    "tabela[0:n].T    # com o encadeamento de dois comandos diferentes, é possível visualizar as n primeiras linhas da tabela\n",
    "tabela[-n:].T    # visualizar as n últimas linhas da tabela\n",
    "\n",
    "tabela['coluna'].value_counts() # conta o número de valores NÃO NULOS distintos da coluna (distinct count)\n",
    "\n",
    "tabela['coluna'].nunique() # funciona como um \"distinct\" na consulta SQL\n",
    "\n",
    "tabela.rename(columns={'nomeantigo':'nomenovo','nomeantigo2':'nomenovo2'}) # renomear colunas\n",
    "\n",
    "tabela['coluna'].value_counts().plot.bar() #para plotar um gráfico de barras das contagens\n",
    "\n",
    "coluna.size \t\t    # contabiliza todos os valores, incluindo os nulos\n",
    "\n",
    "coluna.dropna() \t    # remove valores nulos NA VISUALIZAÇÃO\n",
    "coluna.dropna(inplace=True) # remove valores nulos DEFINITIVAMENTE\n",
    "\n",
    "tabela.drop([\"coluna\"],axis=1,inplace=False) #remove a coluna da tabela, se inplace=True, a coluna é removida permanentemente \n",
    "\n",
    "tabela['coluna'].min()  # seleciona o menor valor da coluna\n",
    "tabela['coluna'].max()  # seleciona o maior valor da coluna\n",
    "tabela['coluna'].mean() # seleciona a média dos valores da coluna\n",
    "tabela['coluna'].std()  # seleciona o desvio padrão dos valores da coluna\n",
    "tabela['coluna'].describe() # visualiza dados descritivos dos valores da coluna\n",
    "\n",
    "tabela.drop_duplicates() # remove linhas duplicadas\n",
    "\n",
    "tabela.describe() # visualiza dados descritivos de todas as colunas numéricas do Data Frame\n",
    "\n",
    "coluna.hist() # plotar histograma da coluna\n",
    "\n",
    "tabela.sort_values(by='coluna') # ordena a tabela pelos valores da coluna\n",
    "\n",
    "tabela.shape                    # mostra as dimensões da tabela\n",
    "\n",
    "tabela.info()                   # mostra o tipo de cada variável da tabela (numérico, texto, etc.)\n",
    "\n",
    "tabela.set_index('coluna', inplace = True) # transforma uma coluna em índice na tabela\n",
    "\n",
    "\n",
    "tabela['coluna'].str.replace(',','').astype(float) # transforma os valores da coluna de texto para float (também substitui ',' por '')\n",
    "\n",
    "tabela['coluna'].isnull().sum() # mostra o total de valores nulos na coluna\n",
    "\n",
    "tabela.corr()['coluna'].sort_values().to_frame().tail(2) # para visualizar a variável com maior correlação com 'coluna'\n",
    "\n",
    "tabela.rename(index={'nível antigo': 'nível novo'},inplace=True) # renomeando algum nível do índice do data frame\n",
    "\n",
    "tabela.groupby('coluna',axis = 0).sum() # somando os valores por categoria da 'coluna'\n",
    "\n",
    "# localiza os índices 1 a 3 na tabela com as colunas contidas na lista 'colunas'\n",
    "colunas = ['coluna 1','coluna 2','coluna 3','coluna 4','coluna 5','coluna 6','coluna 7','coluna 8']\n",
    "tabela.loc[['índice 1', 'índice 2', 'índice 3'], colunas]\t\n",
    "\n",
    "# let's examine the types of the column labels\n",
    "all(isinstance(column, str) for column in df_can.columns)"
   ]
  },
  {
   "cell_type": "markdown",
   "metadata": {},
   "source": [
    "**Definindo categorias em uma coluna numérica (comando pandas.Categorical)**"
   ]
  },
  {
   "cell_type": "code",
   "execution_count": 12,
   "metadata": {},
   "outputs": [
    {
     "data": {
      "text/plain": [
       "['categoria1', 'categoria1', 'categoria1', 'categoria2', 'categoria2', ..., 'categoria1', 'categoria3', 'categoria1', 'categoria3', 'categoria3']\n",
       "Length: 14\n",
       "Categories (3, object): ['categoria1', 'categoria2', 'categoria3']"
      ]
     },
     "execution_count": 12,
     "metadata": {},
     "output_type": "execute_result"
    }
   ],
   "source": [
    "import numpy as np\n",
    "\n",
    "target = [0,0,0,1,1,0,0,1,0,0,2,0,2,2]\n",
    "categorias = ['categoria1','categoria2','categoria3']\n",
    "\n",
    "pd.Categorical.from_codes(np.array(target), np.array(categorias)) # \"traduzindo\" os códigos das categorias "
   ]
  },
  {
   "cell_type": "markdown",
   "metadata": {},
   "source": [
    "**scatter_matrix**"
   ]
  },
  {
   "cell_type": "code",
   "execution_count": 13,
   "metadata": {},
   "outputs": [
    {
     "data": {
      "text/plain": [
       "array([[<matplotlib.axes._subplots.AxesSubplot object at 0x000001DA8C4EF908>,\n",
       "        <matplotlib.axes._subplots.AxesSubplot object at 0x000001DA8E564518>,\n",
       "        <matplotlib.axes._subplots.AxesSubplot object at 0x000001DA8E59A780>,\n",
       "        <matplotlib.axes._subplots.AxesSubplot object at 0x000001DA8E5CE9E8>],\n",
       "       [<matplotlib.axes._subplots.AxesSubplot object at 0x000001DA8E602C50>,\n",
       "        <matplotlib.axes._subplots.AxesSubplot object at 0x000001DA8E636EB8>,\n",
       "        <matplotlib.axes._subplots.AxesSubplot object at 0x000001DA8B8F4A20>,\n",
       "        <matplotlib.axes._subplots.AxesSubplot object at 0x000001DA8E690E10>],\n",
       "       [<matplotlib.axes._subplots.AxesSubplot object at 0x000001DA8E690E80>,\n",
       "        <matplotlib.axes._subplots.AxesSubplot object at 0x000001DA8E701358>,\n",
       "        <matplotlib.axes._subplots.AxesSubplot object at 0x000001DA8E7375C0>,\n",
       "        <matplotlib.axes._subplots.AxesSubplot object at 0x000001DA8E769828>],\n",
       "       [<matplotlib.axes._subplots.AxesSubplot object at 0x000001DA8E79EA90>,\n",
       "        <matplotlib.axes._subplots.AxesSubplot object at 0x000001DA8E7CECF8>,\n",
       "        <matplotlib.axes._subplots.AxesSubplot object at 0x000001DA8E804F60>,\n",
       "        <matplotlib.axes._subplots.AxesSubplot object at 0x000001DA8E843208>]],\n",
       "      dtype=object)"
      ]
     },
     "execution_count": 13,
     "metadata": {},
     "output_type": "execute_result"
    },
    {
     "data": {
      "image/png": "[encoded data removed]",
      "text/plain": [
       "<Figure size 432x288 with 16 Axes>"
      ]
     },
     "metadata": {
      "needs_background": "light"
     },
     "output_type": "display_data"
    }
   ],
   "source": [
    "df = pd.DataFrame(np.random.randn(1000, 4), columns=['A','B','C','D'])\n",
    "pd.plotting.scatter_matrix(df, alpha=0.2)"
   ]
  },
  {
   "cell_type": "markdown",
   "metadata": {},
   "source": [
    "# Pacote Dash"
   ]
  },
  {
   "cell_type": "code",
   "execution_count": 82,
   "metadata": {},
   "outputs": [
    {
     "name": "stdout",
     "output_type": "stream",
     "text": [
      "Collecting jupyter-dashNote: you may need to restart the kernel to use updated packages.\n",
      "  Downloading jupyter_dash-0.4.0-py3-none-any.whl (20 kB)\n",
      "Requirement already satisfied: ipython in c:\\users\\jfcar\\anaconda3\\lib\\site-packages (from jupyter-dash) (7.16.1)\n",
      "Collecting retrying\n",
      "  Downloading retrying-1.3.3.tar.gz (10 kB)\n",
      "Requirement already satisfied: requests in c:\\users\\jfcar\\anaconda3\\lib\\site-packages (from jupyter-dash) (2.24.0)\n",
      "Collecting ansi2html\n",
      "  Downloading ansi2html-1.6.0-py3-none-any.whl (14 kB)\n",
      "Requirement already satisfied: flask in c:\\users\\jfcar\\anaconda3\\lib\\site-packages (from jupyter-dash) (1.1.2)\n",
      "Requirement already satisfied: ipykernel in c:\\users\\jfcar\\anaconda3\\lib\\site-packages (from jupyter-dash) (5.3.4)\n",
      "Collecting dash\n",
      "  Downloading dash-1.21.0.tar.gz (1.1 MB)\n",
      "Requirement already satisfied: pygments in c:\\users\\jfcar\\anaconda3\\lib\\site-packages (from ipython->jupyter-dash) (2.7.1)\n",
      "Requirement already satisfied: prompt-toolkit!=3.0.0,!=3.0.1,<3.1.0,>=2.0.0 in c:\\users\\jfcar\\anaconda3\\lib\\site-packages (from ipython->jupyter-dash) (3.0.7)\n",
      "Requirement already satisfied: decorator in c:\\users\\jfcar\\anaconda3\\lib\\site-packages (from ipython->jupyter-dash) (4.4.2)\n",
      "Requirement already satisfied: colorama; sys_platform == \"win32\" in c:\\users\\jfcar\\anaconda3\\lib\\site-packages (from ipython->jupyter-dash) (0.4.3)\n",
      "Requirement already satisfied: jedi>=0.10 in c:\\users\\jfcar\\anaconda3\\lib\\site-packages (from ipython->jupyter-dash) (0.17.1)\n",
      "Requirement already satisfied: setuptools>=18.5 in c:\\users\\jfcar\\anaconda3\\lib\\site-packages (from ipython->jupyter-dash) (49.6.0.post20200814)\n",
      "Requirement already satisfied: backcall in c:\\users\\jfcar\\anaconda3\\lib\\site-packages (from ipython->jupyter-dash) (0.2.0)\n",
      "Requirement already satisfied: pickleshare in c:\\users\\jfcar\\anaconda3\\lib\\site-packages (from ipython->jupyter-dash) (0.7.5)\n",
      "\n",
      "Requirement already satisfied: traitlets>=4.2 in c:\\users\\jfcar\\anaconda3\\lib\\site-packages (from ipython->jupyter-dash) (4.3.3)\n",
      "Requirement already satisfied: six>=1.7.0 in c:\\users\\jfcar\\anaconda3\\lib\\site-packages (from retrying->jupyter-dash) (1.15.0)\n",
      "Requirement already satisfied: urllib3!=1.25.0,!=1.25.1,<1.26,>=1.21.1 in c:\\users\\jfcar\\anaconda3\\lib\\site-packages (from requests->jupyter-dash) (1.25.10)\n",
      "Requirement already satisfied: certifi>=2017.4.17 in c:\\users\\jfcar\\anaconda3\\lib\\site-packages (from requests->jupyter-dash) (2020.6.20)\n",
      "Requirement already satisfied: chardet<4,>=3.0.2 in c:\\users\\jfcar\\anaconda3\\lib\\site-packages (from requests->jupyter-dash) (3.0.4)\n",
      "Requirement already satisfied: idna<3,>=2.5 in c:\\users\\jfcar\\anaconda3\\lib\\site-packages (from requests->jupyter-dash) (2.10)\n",
      "Requirement already satisfied: itsdangerous>=0.24 in c:\\users\\jfcar\\anaconda3\\lib\\site-packages (from flask->jupyter-dash) (1.1.0)\n",
      "Requirement already satisfied: click>=5.1 in c:\\users\\jfcar\\anaconda3\\lib\\site-packages (from flask->jupyter-dash) (7.1.2)\n",
      "Requirement already satisfied: Jinja2>=2.10.1 in c:\\users\\jfcar\\anaconda3\\lib\\site-packages (from flask->jupyter-dash) (2.11.2)\n",
      "Requirement already satisfied: Werkzeug>=0.15 in c:\\users\\jfcar\\anaconda3\\lib\\site-packages (from flask->jupyter-dash) (1.0.1)\n",
      "Requirement already satisfied: jupyter-client in c:\\users\\jfcar\\anaconda3\\lib\\site-packages (from ipykernel->jupyter-dash) (6.1.6)\n",
      "Requirement already satisfied: tornado>=4.2 in c:\\users\\jfcar\\anaconda3\\lib\\site-packages (from ipykernel->jupyter-dash) (6.0.4)\n",
      "Collecting flask-compress\n",
      "  Downloading Flask_Compress-1.10.1-py3-none-any.whl (7.9 kB)\n",
      "Collecting plotly\n",
      "  Downloading plotly-5.1.0-py2.py3-none-any.whl (20.6 MB)\n",
      "Collecting dash-core-components==1.17.1\n",
      "  Downloading dash_core_components-1.17.1.tar.gz (3.7 MB)\n",
      "Collecting dash-html-components==1.1.4\n",
      "  Downloading dash_html_components-1.1.4.tar.gz (83 kB)\n",
      "Collecting dash-table==4.12.0\n",
      "  Downloading dash_table-4.12.0.tar.gz (1.8 MB)\n",
      "Requirement already satisfied: future in c:\\users\\jfcar\\anaconda3\\lib\\site-packages (from dash->jupyter-dash) (0.18.2)\n",
      "Requirement already satisfied: wcwidth in c:\\users\\jfcar\\anaconda3\\lib\\site-packages (from prompt-toolkit!=3.0.0,!=3.0.1,<3.1.0,>=2.0.0->ipython->jupyter-dash) (0.2.5)\n",
      "Requirement already satisfied: parso<0.8.0,>=0.7.0 in c:\\users\\jfcar\\anaconda3\\lib\\site-packages (from jedi>=0.10->ipython->jupyter-dash) (0.7.0)\n",
      "Requirement already satisfied: ipython-genutils in c:\\users\\jfcar\\anaconda3\\lib\\site-packages (from traitlets>=4.2->ipython->jupyter-dash) (0.2.0)\n",
      "Requirement already satisfied: MarkupSafe>=0.23 in c:\\users\\jfcar\\anaconda3\\lib\\site-packages (from Jinja2>=2.10.1->flask->jupyter-dash) (1.1.1)\n",
      "Requirement already satisfied: pyzmq>=13 in c:\\users\\jfcar\\anaconda3\\lib\\site-packages (from jupyter-client->ipykernel->jupyter-dash) (19.0.2)\n",
      "Requirement already satisfied: jupyter-core>=4.6.0 in c:\\users\\jfcar\\anaconda3\\lib\\site-packages (from jupyter-client->ipykernel->jupyter-dash) (4.6.3)\n",
      "Requirement already satisfied: python-dateutil>=2.1 in c:\\users\\jfcar\\anaconda3\\lib\\site-packages (from jupyter-client->ipykernel->jupyter-dash) (2.8.1)\n",
      "Collecting brotli\n",
      "  Downloading Brotli-1.0.9-cp36-cp36m-win_amd64.whl (365 kB)\n",
      "Collecting tenacity>=6.2.0\n",
      "  Downloading tenacity-8.0.1-py3-none-any.whl (24 kB)\n",
      "Requirement already satisfied: pywin32>=1.0; sys_platform == \"win32\" in c:\\users\\jfcar\\anaconda3\\lib\\site-packages (from jupyter-core>=4.6.0->jupyter-client->ipykernel->jupyter-dash) (227)\n",
      "Building wheels for collected packages: retrying, dash, dash-core-components, dash-html-components, dash-table\n",
      "  Building wheel for retrying (setup.py): started\n",
      "  Building wheel for retrying (setup.py): finished with status 'done'\n",
      "  Created wheel for retrying: filename=retrying-1.3.3-py3-none-any.whl size=11434 sha256=131579a1e0ee97cd03b5b94d6a577021e5b3a6bd95fcdf40e4136cb4aaaac0b0\n",
      "  Stored in directory: c:\\users\\jfcar\\appdata\\local\\pip\\cache\\wheels\\ac\\cb\\8a\\b27bf6323e2f4c462dcbf77d70b7c5e7868a7fbe12871770cf\n",
      "  Building wheel for dash (setup.py): started\n",
      "  Building wheel for dash (setup.py): finished with status 'done'\n",
      "  Created wheel for dash: filename=dash-1.21.0-py3-none-any.whl size=1100483 sha256=277a059f7db08f4b2183603aa7f63c0ff1b542196d49d44bbeffc98a2d276901\n",
      "  Stored in directory: c:\\users\\jfcar\\appdata\\local\\pip\\cache\\wheels\\7e\\94\\7a\\f27020660d14453c321b3ef7548e22ba268c6a88f5b9a54198\n",
      "  Building wheel for dash-core-components (setup.py): started\n",
      "  Building wheel for dash-core-components (setup.py): finished with status 'done'\n",
      "  Created wheel for dash-core-components: filename=dash_core_components-1.17.1-py3-none-any.whl size=3738988 sha256=3b46e87e61cf441602d0bdf06d9c8f36fa87917794039fb58abfc5f7fdf684d5\n",
      "  Stored in directory: c:\\users\\jfcar\\appdata\\local\\pip\\cache\\wheels\\fc\\aa\\27\\b26a901c02710ddbfc3048ad801d3c3949442e5f463e9319ba\n",
      "  Building wheel for dash-html-components (setup.py): started\n",
      "  Building wheel for dash-html-components (setup.py): finished with status 'done'\n",
      "  Created wheel for dash-html-components: filename=dash_html_components-1.1.4-py3-none-any.whl size=319760 sha256=5cb1a71a25db2452a651e3b78ef2f208ac8796403abad9cb604cd048e5383984\n",
      "  Stored in directory: c:\\users\\jfcar\\appdata\\local\\pip\\cache\\wheels\\8f\\4d\\95\\87ed2edcf4f18cdb5d02b1f0c42dac6b02ee4e5e38a567e8c3\n",
      "  Building wheel for dash-table (setup.py): started\n",
      "  Building wheel for dash-table (setup.py): finished with status 'done'\n",
      "  Created wheel for dash-table: filename=dash_table-4.12.0-py3-none-any.whl size=1837674 sha256=5f255caf1dba325f315c4a67915e576344df485f945b0433523a70721b933d06\n",
      "  Stored in directory: c:\\users\\jfcar\\appdata\\local\\pip\\cache\\wheels\\8e\\84\\80\\afeb75c4c7a796c976a56aea48d6e0766d127ecd8ab45d21b5\n",
      "Successfully built retrying dash dash-core-components dash-html-components dash-table\n",
      "Installing collected packages: retrying, ansi2html, brotli, flask-compress, tenacity, plotly, dash-core-components, dash-html-components, dash-table, dash, jupyter-dash\n",
      "Successfully installed ansi2html-1.6.0 brotli-1.0.9 dash-1.21.0 dash-core-components-1.17.1 dash-html-components-1.1.4 dash-table-4.12.0 flask-compress-1.10.1 jupyter-dash-0.4.0 plotly-5.1.0 retrying-1.3.3 tenacity-8.0.1\n"
     ]
    }
   ],
   "source": [
    "pip install jupyter-dash"
   ]
  },
  {
   "cell_type": "code",
   "execution_count": 83,
   "metadata": {},
   "outputs": [],
   "source": [
    "import dash\n",
    "import dash_html_components as html"
   ]
  },
  {
   "cell_type": "markdown",
   "metadata": {},
   "source": [
    "# sk learn"
   ]
  },
  {
   "cell_type": "code",
   "execution_count": null,
   "metadata": {},
   "outputs": [],
   "source": [
    "sns.kdeplot(coluna) # plota um gráfico de linha do histograma da coluna\n",
    "sns.distplot(coluna.dropna())   # plota o gráfico de linha com o histograma"
   ]
  },
  {
   "cell_type": "markdown",
   "metadata": {},
   "source": [
    "# Strings"
   ]
  },
  {
   "cell_type": "code",
   "execution_count": null,
   "metadata": {},
   "outputs": [],
   "source": [
    "# Invertendo uma string\n",
    "str2 = ''\n",
    "\n",
    "for i in range(len(\"string\")):\n",
    "    l = (len(\"string\")-1)-i\n",
    "    str2+=\"string\"[l]\n",
    "    \n",
    "print(str2)"
   ]
  },
  {
   "cell_type": "markdown",
   "metadata": {},
   "source": [
    "**Método center()**"
   ]
  },
  {
   "cell_type": "code",
   "execution_count": 4,
   "metadata": {},
   "outputs": [
    {
     "data": {
      "text/plain": [
       "'zzzEsta frase é somente um teste.zz'"
      ]
     },
     "execution_count": 4,
     "metadata": {},
     "output_type": "execute_result"
    }
   ],
   "source": [
    "s = 'Esta frase é somente um teste.'\n",
    "\n",
    "s.center(35, 'z')"
   ]
  },
  {
   "cell_type": "markdown",
   "metadata": {},
   "source": [
    "**Método split()**"
   ]
  },
  {
   "cell_type": "code",
   "execution_count": 5,
   "metadata": {},
   "outputs": [
    {
     "data": {
      "text/plain": [
       "['Esta', 'frase', 'é', 'somente', 'um', 'teste.']"
      ]
     },
     "execution_count": 5,
     "metadata": {},
     "output_type": "execute_result"
    }
   ],
   "source": [
    "s.split()"
   ]
  },
  {
   "cell_type": "code",
   "execution_count": 6,
   "metadata": {},
   "outputs": [
    {
     "data": {
      "text/plain": [
       "[(0, 'Esta'), (1, 'frase'), (2, 'é'), (3, 'somente'), (4, 'um'), (5, 'teste.')]"
      ]
     },
     "execution_count": 6,
     "metadata": {},
     "output_type": "execute_result"
    }
   ],
   "source": [
    "list(enumerate(s.split()))"
   ]
  },
  {
   "cell_type": "code",
   "execution_count": 7,
   "metadata": {},
   "outputs": [
    {
     "data": {
      "text/plain": [
       "6"
      ]
     },
     "execution_count": 7,
     "metadata": {},
     "output_type": "execute_result"
    }
   ],
   "source": [
    "len(s.split())"
   ]
  },
  {
   "cell_type": "markdown",
   "metadata": {},
   "source": [
    "**Método isalnum()**"
   ]
  },
  {
   "cell_type": "code",
   "execution_count": 8,
   "metadata": {},
   "outputs": [
    {
     "data": {
      "text/plain": [
       "False"
      ]
     },
     "execution_count": 8,
     "metadata": {},
     "output_type": "execute_result"
    }
   ],
   "source": [
    "s\n",
    "s.isalnum()"
   ]
  },
  {
   "cell_type": "code",
   "execution_count": 9,
   "metadata": {},
   "outputs": [
    {
     "ename": "AttributeError",
     "evalue": "'list' object has no attribute 'isalnum'",
     "output_type": "error",
     "traceback": [
      "\u001b[1;31m---------------------------------------------------------------------------\u001b[0m",
      "\u001b[1;31mAttributeError\u001b[0m                            Traceback (most recent call last)",
      "\u001b[1;32m<ipython-input-9-4acddf7f6272>\u001b[0m in \u001b[0;36m<module>\u001b[1;34m\u001b[0m\n\u001b[1;32m----> 1\u001b[1;33m \u001b[1;33m[\u001b[0m\u001b[1;36m1\u001b[0m\u001b[1;33m,\u001b[0m\u001b[1;36m2\u001b[0m\u001b[1;33m,\u001b[0m\u001b[1;36m3\u001b[0m\u001b[1;33m,\u001b[0m\u001b[1;36m4\u001b[0m\u001b[1;33m]\u001b[0m\u001b[1;33m.\u001b[0m\u001b[0misalnum\u001b[0m\u001b[1;33m(\u001b[0m\u001b[1;33m)\u001b[0m\u001b[1;33m\u001b[0m\u001b[0m\n\u001b[0m",
      "\u001b[1;31mAttributeError\u001b[0m: 'list' object has no attribute 'isalnum'"
     ]
    }
   ],
   "source": [
    "[1,2,3,4].isalnum()"
   ]
  },
  {
   "cell_type": "code",
   "execution_count": null,
   "metadata": {},
   "outputs": [],
   "source": [
    "tamanho = []\n",
    "s2 = []\n",
    "for element in s.split():\n",
    "    if element.isalpha()  == True or element.isalnum()  == True:\n",
    "        s2.append(element)\n",
    "        tamanho.append(len(element))\n",
    "\n",
    "z = list(zip(s2,tamanho))        \n",
    "print(s2)\n",
    "print(tamanho)"
   ]
  },
  {
   "cell_type": "code",
   "execution_count": null,
   "metadata": {},
   "outputs": [],
   "source": [
    "s2[tamanho.index(max(tamanho))] # maior palavra da frase"
   ]
  },
  {
   "cell_type": "markdown",
   "metadata": {},
   "source": [
    "**Método find()**"
   ]
  },
  {
   "cell_type": "code",
   "execution_count": 6,
   "metadata": {},
   "outputs": [
    {
     "data": {
      "text/plain": [
       "5"
      ]
     },
     "execution_count": 6,
     "metadata": {},
     "output_type": "execute_result"
    }
   ],
   "source": [
    "s=\"arrb6???4xxbl5???eee5\"\n",
    "s.find(\"?\")"
   ]
  },
  {
   "cell_type": "code",
   "execution_count": 9,
   "metadata": {},
   "outputs": [
    {
     "data": {
      "text/plain": [
       "'???4xxbl5???eee5'"
      ]
     },
     "execution_count": 9,
     "metadata": {},
     "output_type": "execute_result"
    }
   ],
   "source": [
    "s[5:]"
   ]
  },
  {
   "cell_type": "code",
   "execution_count": 29,
   "metadata": {},
   "outputs": [
    {
     "name": "stdout",
     "output_type": "stream",
     "text": [
      "False\n",
      "False\n",
      "False\n",
      "False\n",
      "True\n",
      "True\n",
      "True\n",
      "False\n",
      "False\n",
      "False\n"
     ]
    }
   ],
   "source": [
    "lista = [\"0\",\"1\",\"2\",\"3\",\"4\",\"5\",\"6\",\"7\",\"8\",\"9\"]\n",
    "for x in lista:\n",
    "    print(x in s) "
   ]
  },
  {
   "cell_type": "code",
   "execution_count": 38,
   "metadata": {},
   "outputs": [
    {
     "data": {
      "text/plain": [
       "'arrb6???4xxbl5???eee5'"
      ]
     },
     "execution_count": 38,
     "metadata": {},
     "output_type": "execute_result"
    }
   ],
   "source": [
    "s"
   ]
  },
  {
   "cell_type": "code",
   "execution_count": 78,
   "metadata": {},
   "outputs": [
    {
     "name": "stdout",
     "output_type": "stream",
     "text": [
      "arrb6\n",
      "6\n",
      "4xxbl5\n",
      "4\n",
      "5\n",
      "eee5\n",
      "5\n",
      "['arrb6', '', '', '4xxbl5', '', '', 'eee5']\n",
      "[6, 4, 5, 5]\n",
      "20\n"
     ]
    }
   ],
   "source": [
    "lista = [\"0\",\"1\",\"2\",\"3\",\"4\",\"5\",\"6\",\"7\",\"8\",\"9\"]\n",
    "c = s.split('?')\n",
    "nums = []\n",
    "soma = 0\n",
    "for x in c:\n",
    "    if x.isalnum() == True:\n",
    "        print(x)\n",
    "        for n in lista:\n",
    "            if n in x: \n",
    "                print(int(s[s.find(n)]))\n",
    "                \n",
    "                nums.append(int(s[s.find(n)]))\n",
    "print(c)                \n",
    "print(nums)\n",
    "print(sum(nums))"
   ]
  },
  {
   "cell_type": "code",
   "execution_count": 26,
   "metadata": {},
   "outputs": [
    {
     "ename": "TypeError",
     "evalue": "must be str, not bool",
     "output_type": "error",
     "traceback": [
      "\u001b[1;31m---------------------------------------------------------------------------\u001b[0m",
      "\u001b[1;31mTypeError\u001b[0m                                 Traceback (most recent call last)",
      "\u001b[1;32m<ipython-input-26-9308ba2c782f>\u001b[0m in \u001b[0;36m<module>\u001b[1;34m\u001b[0m\n\u001b[0;32m      1\u001b[0m \u001b[1;32mfor\u001b[0m \u001b[0mx\u001b[0m \u001b[1;32min\u001b[0m \u001b[0mlist\u001b[0m\u001b[1;33m:\u001b[0m\u001b[1;33m\u001b[0m\u001b[0m\n\u001b[1;32m----> 2\u001b[1;33m     \u001b[0ms\u001b[0m\u001b[1;33m.\u001b[0m\u001b[0mindex\u001b[0m\u001b[1;33m(\u001b[0m\u001b[0mx\u001b[0m \u001b[1;32min\u001b[0m \u001b[0ms\u001b[0m\u001b[1;33m)\u001b[0m\u001b[1;33m\u001b[0m\u001b[0m\n\u001b[0m",
      "\u001b[1;31mTypeError\u001b[0m: must be str, not bool"
     ]
    }
   ],
   "source": [
    "for x in list:\n",
    "    s.index(x in s)"
   ]
  },
  {
   "cell_type": "markdown",
   "metadata": {},
   "source": [
    "**Método count()**"
   ]
  },
  {
   "cell_type": "code",
   "execution_count": 4,
   "metadata": {},
   "outputs": [
    {
     "data": {
      "text/plain": [
       "6"
      ]
     },
     "execution_count": 4,
     "metadata": {},
     "output_type": "execute_result"
    }
   ],
   "source": [
    "s.count(\"?\")"
   ]
  },
  {
   "cell_type": "markdown",
   "metadata": {},
   "source": [
    "# Arrays"
   ]
  },
  {
   "cell_type": "markdown",
   "metadata": {},
   "source": [
    "The main <u> difference between a copy and a view of an array</u> is that **the copy is a new array**, and **the view is just a view of the original array.**\n",
    "\n",
    "The copy *owns the data* and any changes made to the copy will not affect original array, and any changes made to the original array will not affect the copy.\n",
    "\n",
    "The view *does not own the data* and any changes made to the view will affect the original array, and any changes made to the original array will affect the view."
   ]
  },
  {
   "cell_type": "code",
   "execution_count": null,
   "metadata": {},
   "outputs": [],
   "source": [
    "import numpy as np\n",
    "\n",
    "arr = np.array([1, 2, 3, 4, 5])\n",
    "x = arr.copy()\n",
    "arr[0] = 42\n",
    "\n",
    "print(arr)\n",
    "print(x)"
   ]
  },
  {
   "cell_type": "code",
   "execution_count": null,
   "metadata": {},
   "outputs": [],
   "source": [
    "arr = np.array([1, 2, 3, 4, 5])\n",
    "x = arr.view()\n",
    "arr[0] = 42\n",
    "\n",
    "print(arr)\n",
    "print(x)"
   ]
  },
  {
   "cell_type": "markdown",
   "metadata": {},
   "source": [
    "Toda alteração que eu fizer no array **refletirá** na view"
   ]
  },
  {
   "cell_type": "code",
   "execution_count": null,
   "metadata": {},
   "outputs": [],
   "source": [
    "arr = np.array([1, 2, 3, 4, 5])\n",
    "\n",
    "x = arr.copy()\n",
    "y = arr.view()\n",
    "\n",
    "print(x.base)\n",
    "print(y.base)"
   ]
  },
  {
   "cell_type": "markdown",
   "metadata": {},
   "source": [
    "Every NumPy array has the attribute <font color=red>base</font> that returns **None** if the array owns the data.\n",
    "\n",
    "Otherwise, the <font color=red>base</font> attribute refers to the original object."
   ]
  },
  {
   "cell_type": "code",
   "execution_count": null,
   "metadata": {},
   "outputs": [],
   "source": [
    "import numpy as np\n",
    "arr = np.array([1,4,3,4,5,4,4])\n",
    "\n",
    "np.where(arr==4)"
   ]
  },
  {
   "cell_type": "code",
   "execution_count": null,
   "metadata": {},
   "outputs": [],
   "source": [
    "x = [1,3,4]\n",
    "np.shape(x)"
   ]
  },
  {
   "cell_type": "code",
   "execution_count": null,
   "metadata": {},
   "outputs": [],
   "source": [
    "arr = np.array([[10, 20, 30, 40], [50, 60, 70, 80]])\n",
    "\n",
    "#arr.ndim\n",
    "np.shape(arr)"
   ]
  },
  {
   "cell_type": "markdown",
   "metadata": {},
   "source": [
    "**Convertendo o *datatype* do array**"
   ]
  },
  {
   "cell_type": "code",
   "execution_count": null,
   "metadata": {},
   "outputs": [],
   "source": [
    "arr = np.array([1.1, 2.1, 3.1])\n",
    "\n",
    "newarr = arr.astype('i')\n",
    "\n",
    "print('array antigo:',arr)\n",
    "print('array convertido:',newarr)\n",
    "print('datatype do array:',newarr.dtype)"
   ]
  },
  {
   "cell_type": "markdown",
   "metadata": {},
   "source": [
    "## Verificando o nº de dimensões de um array - método *ndim*"
   ]
  },
  {
   "cell_type": "code",
   "execution_count": null,
   "metadata": {},
   "outputs": [],
   "source": [
    "arr = np.array([[1,2],[3,4]])\n",
    "arr.ndim"
   ]
  },
  {
   "cell_type": "markdown",
   "metadata": {},
   "source": [
    "## Verificando o número de elementos em cada dimensão de um array - método *shape*"
   ]
  },
  {
   "cell_type": "markdown",
   "metadata": {},
   "source": [
    "**Método shape**"
   ]
  },
  {
   "cell_type": "code",
   "execution_count": null,
   "metadata": {},
   "outputs": [],
   "source": [
    "arr.shape"
   ]
  },
  {
   "cell_type": "code",
   "execution_count": null,
   "metadata": {},
   "outputs": [],
   "source": [
    "arr = np.array([1, 2, 3, 4], ndmin=5)\n",
    "\n",
    "print(arr)\n",
    "print('shape of array :', arr.shape)\n",
    "print('arr possui',arr.ndim,'dimensões')"
   ]
  },
  {
   "cell_type": "markdown",
   "metadata": {},
   "source": [
    "**Método reshape**"
   ]
  },
  {
   "cell_type": "code",
   "execution_count": null,
   "metadata": {},
   "outputs": [],
   "source": [
    "arr = np.array([1, 2, 3, 4, 5, 6, 7, 8, 9, 10, 11, 12])\n",
    "\n",
    "newarr = arr.reshape(4, 3) # quatro linhas e três colunas\n",
    "\n",
    "print('array antes do redimensionamento:\\n',arr)\n",
    "print('\\n array após o redimensionamento:\\n',newarr)"
   ]
  },
  {
   "cell_type": "markdown",
   "metadata": {},
   "source": [
    "Convert 1D array with 8 elements to 3D array with 2x2 elements:\n",
    "\n"
   ]
  },
  {
   "cell_type": "code",
   "execution_count": null,
   "metadata": {},
   "outputs": [],
   "source": [
    "arr = np.array([1, 2, 3, 4, 5, 6, 7, 8])\n",
    "\n",
    "newarr = arr.reshape(2, 2, -1)\n",
    "\n",
    "print(newarr)"
   ]
  },
  {
   "cell_type": "markdown",
   "metadata": {},
   "source": [
    "Convert the array into a 1D array:"
   ]
  },
  {
   "cell_type": "code",
   "execution_count": null,
   "metadata": {},
   "outputs": [],
   "source": [
    "arr = np.array([[1, 2, 3], [4, 5, 6]])\n",
    "\n",
    "newarr = arr.reshape(-1)\n",
    "\n",
    "print(newarr)"
   ]
  },
  {
   "cell_type": "markdown",
   "metadata": {},
   "source": [
    "There are a lot of functions for changing the shapes of arrays in numpy flatten, ravel and also for rearranging the elements rot90, flip, fliplr, flipud etc. These fall under Intermediate to Advanced section of numpy."
   ]
  },
  {
   "cell_type": "markdown",
   "metadata": {},
   "source": [
    "## Iteração em um array"
   ]
  },
  {
   "cell_type": "code",
   "execution_count": null,
   "metadata": {},
   "outputs": [],
   "source": [
    "arr = np.array([[1, 2, 3], [4, 5, 6]])\n",
    "\n",
    "for x in arr:\n",
    "    print('\\n',x)\n",
    "    for y in x:\n",
    "        print(y)"
   ]
  },
  {
   "cell_type": "markdown",
   "metadata": {},
   "source": [
    "The function **nditer()** is a helping function that can be used from very basic to very advanced iterations. It solves some basic issues which we face in iteration."
   ]
  },
  {
   "cell_type": "code",
   "execution_count": null,
   "metadata": {},
   "outputs": [],
   "source": [
    "arr = np.array([[[1, 2], [3, 4]], [[5, 6], [7, 8]]])\n",
    "\n",
    "for x in np.nditer(arr):\n",
    "  print(x)"
   ]
  },
  {
   "cell_type": "markdown",
   "metadata": {},
   "source": [
    "Iterating With Different Step Size"
   ]
  },
  {
   "cell_type": "code",
   "execution_count": null,
   "metadata": {},
   "outputs": [],
   "source": [
    "arr = np.array([[1, 2, 3, 4], [5, 6, 7, 8]])\n",
    "\n",
    "for x in np.nditer(arr[:, ::2]):\n",
    "  print(x)"
   ]
  },
  {
   "cell_type": "code",
   "execution_count": null,
   "metadata": {
    "scrolled": true
   },
   "outputs": [],
   "source": [
    "arr = np.array([[[1, 2], [3, 4]], [[5, 6], [7, 8]]])\n",
    "\n",
    "for idx, x in np.ndenumerate(arr):\n",
    "  print(idx, x)"
   ]
  },
  {
   "cell_type": "markdown",
   "metadata": {},
   "source": [
    "# Listas"
   ]
  },
  {
   "cell_type": "code",
   "execution_count": null,
   "metadata": {},
   "outputs": [],
   "source": [
    "strArr = [\"1, 3, 4, 7, 13\", \"1, 2, 4, 13, 15\"]\n",
    "\n",
    "type(strArr[0].split())"
   ]
  },
  {
   "cell_type": "code",
   "execution_count": null,
   "metadata": {},
   "outputs": [],
   "source": [
    "print(strArr[0].split())\n",
    "print(strArr[1].split())"
   ]
  },
  {
   "cell_type": "code",
   "execution_count": null,
   "metadata": {},
   "outputs": [],
   "source": [
    "strArr[0].split()[0].rstrip(',')"
   ]
  },
  {
   "cell_type": "code",
   "execution_count": null,
   "metadata": {},
   "outputs": [],
   "source": [
    "#a = strArr[0].split()\n",
    "\n",
    "[x.rstrip(\",\") for x in strArr[0].split()]"
   ]
  },
  {
   "cell_type": "code",
   "execution_count": null,
   "metadata": {},
   "outputs": [],
   "source": [
    "a = [x.rstrip(\",\") for x in strArr[0].split()]\n",
    "b = [x.rstrip(\",\") for x in strArr[1].split()]\n",
    "\n",
    "newlist = [x for x in a if x in b]\n",
    "\n",
    "if len(newlist)==0:\n",
    "    False\n",
    "else:\n",
    "    print(', '.join(newlist))"
   ]
  },
  {
   "cell_type": "code",
   "execution_count": null,
   "metadata": {},
   "outputs": [],
   "source": [
    "strParam = \"acc?7??sss?3rr1??????5\"\n",
    "\n",
    "print(\" \".join(strParam).split(\" \"))\n",
    "lista = \" \".join(strParam).split(\" \")\n",
    "\n",
    "lista2 = [x for x in lista if x.isnumeric()==True or x==\"?\"]\n"
   ]
  },
  {
   "cell_type": "code",
   "execution_count": null,
   "metadata": {},
   "outputs": [],
   "source": [
    "strParam = \"acc?7??sss?3rr1??????5\"\n",
    "\n",
    "strParam.split()\n",
    "\n",
    "#strParam.partition('?')"
   ]
  },
  {
   "cell_type": "code",
   "execution_count": null,
   "metadata": {},
   "outputs": [],
   "source": [
    "import regex as re\n",
    "\n",
    "print(re.findall(\"[0-9].+[0-9][a-z]\", strParam))\n",
    "print(re.findall(\"[a-z][0-9].+[0-9]\", strParam))\n",
    "\n",
    "print(str(re.findall(\"[0-9].+[0-9][a-z]\", strParam)).count('?'))\n",
    "print(str(re.findall(\"[a-z][0-9].+[0-9]\", strParam)).count('?'))"
   ]
  },
  {
   "cell_type": "code",
   "execution_count": null,
   "metadata": {},
   "outputs": [],
   "source": [
    "import regex as re\n",
    "\n",
    "strParam = \"aa6?9\"\n",
    "\n",
    "a = str(re.findall(\"[0-9].+[0-9][a-z]\", strParam))\n",
    "b = str(re.findall(\"[a-z][0-9].+[0-9]\", strParam))\n",
    "\n",
    "\n",
    "if (sum([int(i) for i in re.findall(\"[0-9]\",a)])==10 and a.count(\"?\")==3) or sum([int(i) for i in re.findall(\"[0-9]\",a)])==10 and a.count(\"?\")==3:\n",
    "    print(True)\n",
    "else:\n",
    "    print(False)\n",
    "    \n",
    "\n",
    "\n",
    "#print(a)\n",
    "#print(b)"
   ]
  },
  {
   "cell_type": "markdown",
   "metadata": {},
   "source": [
    "# Matplotlib"
   ]
  },
  {
   "cell_type": "code",
   "execution_count": null,
   "metadata": {},
   "outputs": [],
   "source": [
    "import matplotlib as mat\n",
    "from matplotlib import pyplot as plt"
   ]
  },
  {
   "cell_type": "code",
   "execution_count": null,
   "metadata": {},
   "outputs": [],
   "source": [
    "%matplotlib inline #para que todos os gráficos sejam plotados no jupyter notebook"
   ]
  },
  {
   "cell_type": "code",
   "execution_count": null,
   "metadata": {},
   "outputs": [],
   "source": [
    "tabela['total'].plot(kind = 'pie')\t# gera um gráfico de setores (pizza)\n",
    "plt.title('Título do gráfico')\n",
    "plt.show()"
   ]
  },
  {
   "cell_type": "code",
   "execution_count": null,
   "metadata": {},
   "outputs": [],
   "source": [
    "\n",
    "x = np.array([0, 1, 2, 3])\n",
    "y = np.array([3, 8, 1, 10])\n",
    "\n",
    "plt.subplot(4, 2, 1)\n",
    "plt.plot(x,y)\n",
    "\n",
    "x = np.array([0, 1, 2, 3])\n",
    "y = np.array([10, 20, 30, 40])\n",
    "\n",
    "plt.subplot(4, 2, 2)\n",
    "plt.plot(x,y)\n",
    "\n",
    "x = np.array([0, 1, 2, 3])\n",
    "y = np.array([3, 8, 1, 10])\n",
    "\n",
    "plt.subplot(4, 2, 3)\n",
    "plt.plot(x,y)\n",
    "\n",
    "x = np.array([0, 1, 2, 3])\n",
    "y = np.array([10, 20, 30, 40])\n",
    "\n",
    "plt.subplot(4, 2, 4)\n",
    "plt.plot(x,y)\n",
    "\n",
    "x = np.array([0, 1, 2, 3])\n",
    "y = np.array([3, 8, 1, 10])\n",
    "\n",
    "plt.subplot(4, 2, 5)\n",
    "plt.plot(x,y)\n",
    "\n",
    "x = np.array([0, 1, 2, 3])\n",
    "y = np.array([10, 20, 30, 40])\n",
    "\n",
    "plt.subplot(4, 2, 6)\n",
    "plt.plot(x,y)\n",
    "\n",
    "x = np.array([0, 1, 2, 3])\n",
    "y = np.array([10, 20, 30, 40])\n",
    "\n",
    "plt.subplot(4, 2, 7)\n",
    "plt.plot(x,y)\n",
    "\n",
    "x = np.array([0, 1, 2, 3])\n",
    "y = np.array([10, 20, 30, 40])\n",
    "\n",
    "plt.subplot(4, 2, 8)\n",
    "plt.plot(x,y)\n",
    "\n",
    "plt.show()"
   ]
  },
  {
   "cell_type": "code",
   "execution_count": null,
   "metadata": {},
   "outputs": [],
   "source": [
    "def f(t):\n",
    "    return np.exp(-t) * np.cos(2*np.pi*t)\n",
    "\n",
    "\n",
    "t1 = np.arange(0.0, 3.0, 0.01)\n",
    "\n",
    "ax1 = plt.subplot(212)\n",
    "ax1.margins(0.05)           # Default margin is 0.05, value 0 means fit\n",
    "ax1.plot(t1, f(t1))\n",
    "\n",
    "ax2 = plt.subplot(221)\n",
    "ax2.margins(2, 2)           # Values >0.0 zoom out\n",
    "ax2.plot(t1, f(t1))\n",
    "ax2.set_title('Zoomed out')\n",
    "\n",
    "ax3 = plt.subplot(222)\n",
    "ax3.margins(x=0, y=-0.25)   # Values in (-0.5, 0.0) zooms in to center\n",
    "ax3.plot(t1, f(t1))\n",
    "ax3.set_title('Zoomed in')\n",
    "\n",
    "plt.show()"
   ]
  },
  {
   "cell_type": "code",
   "execution_count": null,
   "metadata": {},
   "outputs": [],
   "source": [
    "x1 = np.linspace(0.0, 5.0)\n",
    "x2 = np.linspace(0.0, 2.0)\n",
    "x3 = np.linspace(0.0, 6.0)\n",
    "\n",
    "y1 = np.cos(2 * np.pi * x1) * np.exp(-x1)\n",
    "y2 = np.cos(2 * np.pi * x2)\n",
    "y3 = np.cos(2 * np.pi * x3)\n",
    "\n",
    "fig, (ax1, ax2, ax3) = plt.subplots(3, 1)\n",
    "fig.suptitle('A tale of 3b subplots')\n",
    "\n",
    "ax1.plot(x1, y1, 'o-')\n",
    "ax1.set_ylabel('Damped oscillation')\n",
    "\n",
    "ax2.plot(x2, y2, '.-')\n",
    "ax2.set_xlabel('time (s)')\n",
    "ax2.set_ylabel('Undamped')\n",
    "\n",
    "ax3.plot(x3, y3, '.-')\n",
    "ax3.set_xlabel('time (s)')\n",
    "ax3.set_ylabel('Undamped')\n",
    "\n",
    "\n",
    "plt.show()"
   ]
  },
  {
   "cell_type": "markdown",
   "metadata": {},
   "source": [
    "## Definindo o tamanho da figura (figsize)"
   ]
  },
  {
   "cell_type": "code",
   "execution_count": null,
   "metadata": {},
   "outputs": [],
   "source": [
    "import matplotlib.pyplot as plt\n",
    "import numpy as np\n",
    "\n",
    "f = plt.figure(figsize=(10,10))\n",
    "ax = f.add_subplot(421)\n",
    "ax2 = f.add_subplot(422)\n",
    "ax3 = f.add_subplot(423)\n",
    "ax4 = f.add_subplot(424)\n",
    "ax5 = f.add_subplot(425)\n",
    "ax6 = f.add_subplot(426)\n",
    "ax7 = f.add_subplot(427)\n",
    "ax8 = f.add_subplot(428)\n",
    "x = np.linspace(0,4,1000)\n",
    "ax.plot(x, np.sin(x))\n",
    "ax2.plot(x, np.cos(x), 'r:')\n",
    "ax3.plot(x, np.sin(x))\n",
    "ax4.plot(x, np.cos(x), 'r:')\n",
    "ax5.plot(x, np.sin(x))\n",
    "ax6.plot(x, np.cos(x), 'r:')\n",
    "ax7.plot(x, np.sin(x))\n",
    "ax8.plot(x, np.cos(x), 'r:')"
   ]
  }
 ],
 "metadata": {
  "kernelspec": {
   "display_name": "Python 3",
   "language": "python",
   "name": "python3"
  },
  "language_info": {
   "codemirror_mode": {
    "name": "ipython",
    "version": 3
   },
   "file_extension": ".py",
   "mimetype": "text/x-python",
   "name": "python",
   "nbconvert_exporter": "python",
   "pygments_lexer": "ipython3",
   "version": "3.6.5"
  }
 },
 "nbformat": 4,
 "nbformat_minor": 4
}
